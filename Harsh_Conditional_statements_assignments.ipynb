{
  "nbformat": 4,
  "nbformat_minor": 0,
  "metadata": {
    "colab": {
      "name": "Harsh_Conditional statements assignments.ipynb",
      "provenance": [],
      "collapsed_sections": []
    },
    "kernelspec": {
      "name": "python3",
      "display_name": "Python 3"
    },
    "language_info": {
      "name": "python"
    }
  },
  "cells": [
    {
      "cell_type": "code",
      "source": [
        "# Questin 1 : Answer\n",
        "per = int(input(\"Enter marks: \"))\n",
        "if per > 90:\n",
        "    print(\"Grade is A\")\n",
        "if per > 80 and per <=90:\n",
        "    print(\"Grade is B\")\n",
        "if per >=60 and per <= 80:\n",
        "    print(\"Grade is C\")\n",
        "if per < 60:\n",
        "    print(\"Grade is D\")"
      ],
      "metadata": {
        "colab": {
          "base_uri": "https://localhost:8080/"
        },
        "id": "Eg-G2FzOzdeh",
        "outputId": "86caded4-4271-4d40-a429-06906b958f04"
      },
      "execution_count": 60,
      "outputs": [
        {
          "output_type": "stream",
          "name": "stdout",
          "text": [
            "Enter marks: 81\n",
            "Grade is B\n"
          ]
        }
      ]
    },
    {
      "cell_type": "code",
      "source": [
        "# Questin 2 : Answer\n",
        "weekday = int(input(\"Enter weekday day number (1-7) : \"))\n",
        "\n",
        "if weekday == 1 :\n",
        "    print(\"\\nMonday\");\n",
        "\n",
        "elif weekday == 2 :\n",
        "    print(\"\\nTuesday\")\n",
        "\n",
        "elif(weekday == 3) :\n",
        "    print(\"\\nWednesday\")\n",
        "\n",
        "elif(weekday == 4) :\n",
        "    print(\"\\nThursday\")\n",
        "\n",
        "elif(weekday == 5) :\n",
        "    print(\"\\nFriday\")\n",
        "\n",
        "elif(weekday == 6) :\n",
        "    print(\"\\nSaturday\")\n",
        "\n",
        "elif (weekday == 7) :\n",
        "    print(\"\\nSunday\")\n",
        "\n",
        "else :\n",
        "    print(\"\\nPlease enter weekday number between 1-7.\")"
      ],
      "metadata": {
        "colab": {
          "base_uri": "https://localhost:8080/"
        },
        "id": "U0Qjt7AT0lq7",
        "outputId": "0c402f5e-832a-420a-ab26-0fe8baa8d830"
      },
      "execution_count": 25,
      "outputs": [
        {
          "output_type": "stream",
          "name": "stdout",
          "text": [
            "Enter weekday day number (1-7) : 1\n",
            "Monday\n"
          ]
        }
      ]
    },
    {
      "cell_type": "code",
      "source": [
        "# Questin 3 : Answer\n",
        "city = input(\"Enter a city: \")\n",
        "\n",
        "if city.upper() == \"DELHI\":\n",
        "\n",
        "   print(\"\\nRed Fort\")\n",
        "\n",
        "elif city.upper() == \"AGRA\":\n",
        "\n",
        "   print(\"\\nTaj Mahal\")\n",
        "\n",
        "elif city.upper() == \"JAIPUR\":\n",
        "\n",
        "   print(\"\\nJal Mahal\")\n",
        "\n",
        "else:\n",
        "\n",
        "   print(\"\\nEnter a valid city\")"
      ],
      "metadata": {
        "colab": {
          "base_uri": "https://localhost:8080/"
        },
        "id": "fQ7HD0HS1LEp",
        "outputId": "220f25bb-db92-4b5e-ea60-9a2ffd6a09cf"
      },
      "execution_count": 34,
      "outputs": [
        {
          "output_type": "stream",
          "name": "stdout",
          "text": [
            "Enter a city: agra\n",
            "\n",
            "Taj Mahal\n"
          ]
        }
      ]
    },
    {
      "cell_type": "code",
      "source": [
        "# Questin 4 : Answer\n",
        "age = int(input(\"Enter the age of a person: \"))\n",
        "\n",
        "if age >= 18:\n",
        "    print(\"\\nPerson is eligible for voting\")\n",
        "else:\n",
        "    print(\"\\nPerson is not eligible for voting\")"
      ],
      "metadata": {
        "colab": {
          "base_uri": "https://localhost:8080/"
        },
        "id": "2LDb2K7I2vFm",
        "outputId": "83e315d5-f0e5-4357-95c1-05c20bb38a32"
      },
      "execution_count": 39,
      "outputs": [
        {
          "output_type": "stream",
          "name": "stdout",
          "text": [
            "Enter the age of a person: 22\n",
            "\n",
            "Person is eligible for voting\n"
          ]
        }
      ]
    },
    {
      "cell_type": "code",
      "source": [
        "# Questin 5 : Answer\n",
        "age = int(input(\"Enter age of the person: \"))\n",
        "\n",
        "if age >= 60:\n",
        "\n",
        " print(\"\\nThe Person is a senior Citizen\")\n",
        "\n",
        "else:\n",
        "\n",
        " print(\"\\nThe Person is not a senior Citizen\")\n",
        "\n"
      ],
      "metadata": {
        "colab": {
          "base_uri": "https://localhost:8080/"
        },
        "id": "LFlf-Y2sA8Nj",
        "outputId": "5a80ae13-5047-4008-8d3c-c79024e114dd"
      },
      "execution_count": 45,
      "outputs": [
        {
          "output_type": "stream",
          "name": "stdout",
          "text": [
            "Enter age of the person: 45\n",
            "\n",
            "The Person is not a senior Citizen\n"
          ]
        }
      ]
    },
    {
      "cell_type": "code",
      "source": [
        "# Questin 6 : Answer\n",
        "num1=int(input(\"Enter your first number:\"))\n",
        "num2=int(input(\"Enter your second number: \"))\n",
        "if(num1<num2):\n",
        "    print(num1, \"is the smallest number\")\n",
        "elif(num2<num1):\n",
        "    print(num2, \"is smallest number\")\n",
        "else:\n",
        "    print(\"Both are equal numbers\")"
      ],
      "metadata": {
        "colab": {
          "base_uri": "https://localhost:8080/"
        },
        "id": "iLRYSUU1Bv3J",
        "outputId": "f6ff7c91-3184-4bfc-b7b4-8fa7823ba69c"
      },
      "execution_count": 51,
      "outputs": [
        {
          "output_type": "stream",
          "name": "stdout",
          "text": [
            "Enter your first number:55\n",
            "Enter your second number: 33\n",
            "33 is smallest number\n"
          ]
        }
      ]
    },
    {
      "cell_type": "code",
      "source": [
        "# Questin 7 : Answer\n",
        "\n",
        "num1=int(input(\"Enter your first number:\"))\n",
        "num2=int(input(\"Enter your second number: \"))\n",
        "if(num1>num2):\n",
        "    print(num1, \"is the largest number\")\n",
        "elif(num2>num1):\n",
        "    print(num2, \"is the largest number\")\n",
        "else:\n",
        "    print(\"Both are equal numbers\")"
      ],
      "metadata": {
        "colab": {
          "base_uri": "https://localhost:8080/"
        },
        "id": "VRtCHxG5C9LX",
        "outputId": "ed8e9b2c-03ec-4fa6-b65e-e11e0f227caa"
      },
      "execution_count": 53,
      "outputs": [
        {
          "output_type": "stream",
          "name": "stdout",
          "text": [
            "Enter your first number:88\n",
            "Enter your second number: 99\n",
            "99 is largest number\n"
          ]
        }
      ]
    },
    {
      "cell_type": "code",
      "source": [
        "# Questin 8 : Answer\n",
        "\n",
        "number_of_presence = int(input(\"Enter total number of working days > \"))\n",
        "\n",
        "number_of_absence = int(input(\"Enter number of days absent > \"))\n",
        "\n",
        "percentage= (number_of_presence - number_of_absence) / number_of_presence * 100\n",
        "\n",
        "print(\"Your percentage of class attended is: \", percentage)\n",
        "\n",
        "if percentage < 75:\n",
        "\n",
        " print(\"You will not be able to sit in exam.\")\n",
        "\n",
        "else:\n",
        "\n",
        " print(\"You will be able to sit in exam.\")"
      ],
      "metadata": {
        "colab": {
          "base_uri": "https://localhost:8080/"
        },
        "id": "zKCxt9Ky3d0G",
        "outputId": "f546c5b2-d3a5-483f-c7f5-12c27a2a3b2a"
      },
      "execution_count": 55,
      "outputs": [
        {
          "output_type": "stream",
          "name": "stdout",
          "text": [
            "Enter total number of working days > 22\n",
            "Enter number of days absent > 11\n",
            "Your percentage of class attended is:  50.0\n",
            "You will not be able to sit in exam.\n"
          ]
        }
      ]
    },
    {
      "cell_type": "code",
      "source": [
        "# Questin 9 : Answer\n",
        "\n",
        "per = int(input(\"Enter the Percentage: \"))\n",
        "if per > 80:\n",
        "    print(\"Grade is A+\")\n",
        "if per >=60  and per <=80:\n",
        "    print(\"Grade is A\")\n",
        "if per >=50 and per <60:\n",
        "    print(\"Grade is B+\")\n",
        "if per >=45 and per <50:\n",
        "    print(\"Grade is B\")\n",
        "if per >=25 and per <45:\n",
        "    print(\"Grade is C\")        \n",
        "if per < 25:\n",
        "    print(\"Grade is D\")\n"
      ],
      "metadata": {
        "colab": {
          "base_uri": "https://localhost:8080/"
        },
        "id": "-VXOuKiME50k",
        "outputId": "356ad046-43e5-463a-b028-d55a1e652f5d"
      },
      "execution_count": 61,
      "outputs": [
        {
          "output_type": "stream",
          "name": "stdout",
          "text": [
            "Enter the Percentage: 60\n",
            "Grade is A\n"
          ]
        }
      ]
    },
    {
      "cell_type": "code",
      "source": [
        "# Questin 10 : Answer\n",
        "per = int(input(\"Enter the Percentage: \"))\n",
        "if per>=65:\n",
        "    print(\"Category: Excellent\")\n",
        "if per >=55  and per <65:\n",
        "    print(\"Category: Good\")\n",
        "if per >=40 and per <55:\n",
        "    print(\"Category: Fair\")\n",
        "if per < 40:\n",
        "    print(\"Category: Failed\")"
      ],
      "metadata": {
        "colab": {
          "base_uri": "https://localhost:8080/"
        },
        "id": "H8Nk1GnaIF8L",
        "outputId": "dba54f47-14d3-40c9-c294-bb2f62df647b"
      },
      "execution_count": 62,
      "outputs": [
        {
          "output_type": "stream",
          "name": "stdout",
          "text": [
            "Enter the Percentage: 35\n",
            "Category: Failed\n"
          ]
        }
      ]
    }
  ]
}