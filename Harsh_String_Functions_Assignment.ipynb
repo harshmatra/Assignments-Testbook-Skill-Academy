{
  "cells": [
    {
      "cell_type": "markdown",
      "id": "066da71d",
      "metadata": {
        "id": "066da71d"
      },
      "source": [
        "Question 1: Print the '$' symbol 20 times without having to type it for 20 times."
      ]
    },
    {
      "cell_type": "code",
      "source": [
        "string=\"$\"\n",
        "print(string*20)"
      ],
      "metadata": {
        "colab": {
          "base_uri": "https://localhost:8080/"
        },
        "id": "uKP7vRFVDUm-",
        "outputId": "e021a353-6ed3-4878-9acd-4bfe64162beb"
      },
      "id": "uKP7vRFVDUm-",
      "execution_count": 12,
      "outputs": [
        {
          "output_type": "stream",
          "name": "stdout",
          "text": [
            "$$$$$$$$$$$$$$$$$$$$\n"
          ]
        }
      ]
    },
    {
      "cell_type": "markdown",
      "id": "b25d4fd7",
      "metadata": {
        "id": "b25d4fd7"
      },
      "source": [
        "Question 2: Find the product of two numbers input by the user.\n",
        "-Take input of the first number and store it in a variable\n",
        "-Take input of the second number and store it in a variable\n",
        "-You will need to typecast the input strings into integers\n",
        "-Calculate the product\n",
        "-Print the result"
      ]
    },
    {
      "cell_type": "code",
      "source": [
        "first_number=input(\"Enter the First Number\")\n",
        "first_number=int(first_number)\n",
        "second_number=input(\"Enter the Second Number\")\n",
        "second_number=int(second_number)\n",
        "product=first_number*second_number\n",
        "print(product)\n"
      ],
      "metadata": {
        "colab": {
          "base_uri": "https://localhost:8080/"
        },
        "id": "bkar_w4SDtln",
        "outputId": "e0640670-9186-40e8-cce3-97e41ffa6319"
      },
      "id": "bkar_w4SDtln",
      "execution_count": 11,
      "outputs": [
        {
          "output_type": "stream",
          "name": "stdout",
          "text": [
            "Enter the First Number4\n",
            "Enter the Second Number5\n",
            "20\n"
          ]
        }
      ]
    },
    {
      "cell_type": "markdown",
      "id": "51f18a3c",
      "metadata": {
        "id": "51f18a3c"
      },
      "source": [
        "Question 3: Concatenate the given strings and print the result:\n",
        "string1= 'Welcome to Data Science With Python'\n",
        "string2= 'coding practice session.'"
      ]
    },
    {
      "cell_type": "code",
      "source": [
        "string1= 'Welcome to Data Science With Python' \n",
        "string2= 'coding practice session.'\n",
        "print(string1+\" \"+string2)\n"
      ],
      "metadata": {
        "colab": {
          "base_uri": "https://localhost:8080/"
        },
        "id": "zN0selV-I2lf",
        "outputId": "d17816ba-ffbb-4217-c1a8-fe9085c23c28"
      },
      "id": "zN0selV-I2lf",
      "execution_count": 9,
      "outputs": [
        {
          "output_type": "stream",
          "name": "stdout",
          "text": [
            "Welcome to Data Science With Python coding practice session.\n"
          ]
        }
      ]
    },
    {
      "cell_type": "markdown",
      "id": "1a5f392c",
      "metadata": {
        "id": "1a5f392c"
      },
      "source": [
        "Question 4:Using String Functions/Methods solve the given questions:\n",
        "a)some_sentence = \"Today is a beautiful day    \" # use rstrip () function\n",
        "b)large = \"CONVERT ME TO LOWER CASED\"            # use lower() function\n",
        "c)small = \"convert me to upper cased\"            # use upper() function\n",
        "d)spaces = \"   welcome to testbook data science course \"  # use strip() function \n",
        "e)s = \"Python on Jupyter Notebook\"                # use index() function \n",
        "  Find i) Note\n",
        "      ii) thon\n",
        "     iii) yter\n",
        "f)string = \"This is a sample sentence\"          # use count() method\n",
        "  Find i) is\n",
        "      ii) sample\n",
        "     iii) tence"
      ]
    },
    {
      "cell_type": "code",
      "source": [
        "some_sentence = \"Today is a beautiful day \" # use rstrip () function\n",
        "large = \"CONVERT ME TO LOWER CASED\" # use lower() function\n",
        "small = \"convert me to upper cased\" # use upper() function\n",
        "spaces = \" welcome to testbook data science course \" # use strip() function\n",
        "s = \"Python on Jupyter Notebook\" # use index() function Find i) Note ii) thon iii) yter\n",
        "string = \"This is a sample sentence\" # use count() method Find i) is ii) sample iii) tence\n",
        "print(some_sentence.rstrip()) # a)\n",
        "print(large.lower()) # b)\n",
        "print(small.upper()) # c)\n",
        "print(spaces.strip()) # d)\n",
        "print(s.index('Note')) # e) i)\n",
        "print(s.index('thon')) # e) ii)\n",
        "print(s.index('yter')) # e iii)\n",
        "print(string.count('is')) # f) i)\n",
        "print (string.count('sample')) # f) ii)\n",
        "print(string.count('tence')) # f) iii)\n"
      ],
      "metadata": {
        "id": "Vqz-s8jrNvww",
        "colab": {
          "base_uri": "https://localhost:8080/"
        },
        "outputId": "f73dcbd1-7158-485e-9c18-65929f4284c0"
      },
      "id": "Vqz-s8jrNvww",
      "execution_count": 8,
      "outputs": [
        {
          "output_type": "stream",
          "name": "stdout",
          "text": [
            "Today is a beautiful day\n",
            "convert me to lower cased\n",
            "CONVERT ME TO UPPER CASED\n",
            "welcome to testbook data science course\n",
            "18\n",
            "2\n",
            "13\n",
            "2\n",
            "1\n",
            "1\n"
          ]
        }
      ]
    }
  ],
  "metadata": {
    "kernelspec": {
      "display_name": "Python 3 (ipykernel)",
      "language": "python",
      "name": "python3"
    },
    "language_info": {
      "codemirror_mode": {
        "name": "ipython",
        "version": 3
      },
      "file_extension": ".py",
      "mimetype": "text/x-python",
      "name": "python",
      "nbconvert_exporter": "python",
      "pygments_lexer": "ipython3",
      "version": "3.9.7"
    },
    "colab": {
      "name": "Harsh_String Functions Assignment.ipynb",
      "provenance": [],
      "collapsed_sections": []
    }
  },
  "nbformat": 4,
  "nbformat_minor": 5
}