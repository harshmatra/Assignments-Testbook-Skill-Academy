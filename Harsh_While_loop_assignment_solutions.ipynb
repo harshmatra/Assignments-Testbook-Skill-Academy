{
  "nbformat": 4,
  "nbformat_minor": 0,
  "metadata": {
    "colab": {
      "provenance": []
    },
    "kernelspec": {
      "name": "python3",
      "display_name": "Python 3"
    },
    "language_info": {
      "name": "python"
    }
  },
  "cells": [
    {
      "cell_type": "markdown",
      "source": [
        "Question 1: Answer"
      ],
      "metadata": {
        "id": "UwdI61jLwodM"
      }
    },
    {
      "cell_type": "code",
      "source": [
        "i = int(input(\"Enter N: \"))\n",
        "while(i>0):\n",
        "  print(i)\n",
        "  i-=1"
      ],
      "metadata": {
        "colab": {
          "base_uri": "https://localhost:8080/"
        },
        "id": "7KJ9XMkPwuVz",
        "outputId": "5ec621a7-7b9c-4397-faf3-af7ce42368bd"
      },
      "execution_count": 1,
      "outputs": [
        {
          "output_type": "stream",
          "name": "stdout",
          "text": [
            "Enter N: 3\n",
            "3\n",
            "2\n",
            "1\n"
          ]
        }
      ]
    },
    {
      "cell_type": "markdown",
      "source": [
        "Question 2: Answer"
      ],
      "metadata": {
        "id": "QPtgdaEQwvAR"
      }
    },
    {
      "cell_type": "code",
      "source": [
        "i = 1\n",
        "while(i<=10):\n",
        "  print(i*i)\n",
        "  i+=1"
      ],
      "metadata": {
        "id": "XXT0AUTRww8y"
      },
      "execution_count": null,
      "outputs": []
    },
    {
      "cell_type": "markdown",
      "source": [
        "Question 3: Answer"
      ],
      "metadata": {
        "id": "80t68tdYwxdR"
      }
    },
    {
      "cell_type": "code",
      "source": [
        "i = 5\n",
        "Name = str(input(\"Enter your Name: \"))\n",
        "while(i>0):\n",
        "  print(Name)\n",
        "  i-=1"
      ],
      "metadata": {
        "colab": {
          "base_uri": "https://localhost:8080/"
        },
        "id": "-L1hw_7uwz2y",
        "outputId": "4c1f9a11-9738-4d12-a231-d8c73b4392f9"
      },
      "execution_count": 5,
      "outputs": [
        {
          "output_type": "stream",
          "name": "stdout",
          "text": [
            "Enter your Name: Harsh\n",
            "Harsh\n",
            "Harsh\n",
            "Harsh\n",
            "Harsh\n",
            "Harsh\n"
          ]
        }
      ]
    },
    {
      "cell_type": "markdown",
      "source": [
        "Question 4: Answer"
      ],
      "metadata": {
        "id": "9Ewe8nu-w0wq"
      }
    },
    {
      "cell_type": "code",
      "source": [
        "n = int(input(\"Factorial number: \"))\n",
        "fact = 1\n",
        "i = 2\n",
        "while(i<=n):\n",
        "  fact = fact*i\n",
        "  i+=1\n",
        "\n",
        "print(fact)"
      ],
      "metadata": {
        "id": "tFKdTpNzw236"
      },
      "execution_count": null,
      "outputs": []
    },
    {
      "cell_type": "markdown",
      "source": [
        "Question 5: Answer"
      ],
      "metadata": {
        "id": "tz1yFHTTw3ai"
      }
    },
    {
      "cell_type": "code",
      "execution_count": null,
      "metadata": {
        "id": "gbQ1kTuTwjj9"
      },
      "outputs": [],
      "source": [
        "i = 0\n",
        "sum = 0\n",
        "while(i<=10):\n",
        "  sum+=i\n",
        "  i+=2\n",
        "\n",
        "print(sum)"
      ]
    }
  ]
}