{
  "nbformat": 4,
  "nbformat_minor": 0,
  "metadata": {
    "colab": {
      "provenance": [],
      "collapsed_sections": []
    },
    "kernelspec": {
      "name": "python3",
      "display_name": "Python 3"
    },
    "language_info": {
      "name": "python"
    }
  },
  "cells": [
    {
      "cell_type": "markdown",
      "source": [
        "Question 1: Answer"
      ],
      "metadata": {
        "id": "TEGxj7X7vgTl"
      }
    },
    {
      "cell_type": "code",
      "execution_count": 5,
      "metadata": {
        "colab": {
          "base_uri": "https://localhost:8080/"
        },
        "id": "hOPjZeempSvu",
        "outputId": "ee1202d4-e97e-4928-bdd1-cbeb21599a1d"
      },
      "outputs": [
        {
          "output_type": "stream",
          "name": "stdout",
          "text": [
            "Square of 1 is 1\n",
            "Square of 2 is 4\n",
            "Square of 3 is 9\n",
            "Square of 4 is 16\n",
            "Square of 5 is 25\n",
            "Square of 6 is 36\n",
            "Square of 7 is 49\n"
          ]
        }
      ],
      "source": [
        "numbers = [1, 2, 3, 4, 5, 6, 7]\n",
        "for i in numbers:\n",
        "    square = i**2\n",
        "    print(\"Square of\", i, \"is\", square)"
      ]
    },
    {
      "cell_type": "markdown",
      "source": [
        "Question 2:Answer"
      ],
      "metadata": {
        "id": "Syrn2CW6vjgF"
      }
    },
    {
      "cell_type": "code",
      "source": [
        "for i in range(1, 10):\n",
        "    if i%2 == 0:\n",
        "        print('Even Number:', i)\n",
        "    else:\n",
        "        print('Odd Number:', i)"
      ],
      "metadata": {
        "colab": {
          "base_uri": "https://localhost:8080/"
        },
        "id": "OTqzFCfOuE1z",
        "outputId": "cbbe4f70-8996-49be-f9a1-e46ed795b2dc"
      },
      "execution_count": 4,
      "outputs": [
        {
          "output_type": "stream",
          "name": "stdout",
          "text": [
            "Odd Number: 1\n",
            "Even Number: 2\n",
            "Odd Number: 3\n",
            "Even Number: 4\n",
            "Odd Number: 5\n",
            "Even Number: 6\n",
            "Odd Number: 7\n",
            "Even Number: 8\n",
            "Odd Number: 9\n"
          ]
        }
      ]
    },
    {
      "cell_type": "markdown",
      "source": [
        "Question 3:Answer"
      ],
      "metadata": {
        "id": "Y2Lmd9_tvl-M"
      }
    },
    {
      "cell_type": "code",
      "source": [
        "numbers = [1, 2, 3, 4]\n",
        "for i in numbers[::-1]:\n",
        "    print(i)"
      ],
      "metadata": {
        "colab": {
          "base_uri": "https://localhost:8080/"
        },
        "id": "k4PltTkAugcb",
        "outputId": "1195117f-8e24-4a26-9ef1-6b2aa78471f0"
      },
      "execution_count": 6,
      "outputs": [
        {
          "output_type": "stream",
          "name": "stdout",
          "text": [
            "4\n",
            "3\n",
            "2\n",
            "1\n"
          ]
        }
      ]
    },
    {
      "cell_type": "markdown",
      "source": [
        "Quesion 4: Answer"
      ],
      "metadata": {
        "id": "gxLgs0IqvoCc"
      }
    },
    {
      "cell_type": "code",
      "source": [
        "numbers = [1, 2, 3, 5, 6]\n",
        "size = len(numbers)\n",
        "for i in range(size):\n",
        "    print('Index:', i, \" \", 'Value:', numbers[i])"
      ],
      "metadata": {
        "colab": {
          "base_uri": "https://localhost:8080/"
        },
        "id": "8gHYCf-ku4bI",
        "outputId": "0c2746c3-fc58-4895-cf28-8c1762940c81"
      },
      "execution_count": 7,
      "outputs": [
        {
          "output_type": "stream",
          "name": "stdout",
          "text": [
            "Index: 0   Value: 1\n",
            "Index: 1   Value: 2\n",
            "Index: 2   Value: 3\n",
            "Index: 3   Value: 5\n",
            "Index: 4   Value: 6\n"
          ]
        }
      ]
    },
    {
      "cell_type": "markdown",
      "source": [
        "Question 5: Answer"
      ],
      "metadata": {
        "id": "zBvt-NtevrKE"
      }
    },
    {
      "cell_type": "code",
      "source": [
        "name = \"Harsh\"\n",
        "for i in name[::-1]:\n",
        "    print(i, end=' ')"
      ],
      "metadata": {
        "colab": {
          "base_uri": "https://localhost:8080/"
        },
        "id": "UeNmXPX3vV6w",
        "outputId": "6b0fd9c7-bf60-444f-bfff-e3e97125a52d"
      },
      "execution_count": 8,
      "outputs": [
        {
          "output_type": "stream",
          "name": "stdout",
          "text": [
            "h s r a H "
          ]
        }
      ]
    }
  ]
}