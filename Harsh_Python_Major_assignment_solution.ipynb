{
  "nbformat": 4,
  "nbformat_minor": 0,
  "metadata": {
    "colab": {
      "provenance": []
    },
    "kernelspec": {
      "name": "python3",
      "display_name": "Python 3"
    },
    "language_info": {
      "name": "python"
    }
  },
  "cells": [
    {
      "cell_type": "markdown",
      "source": [
        "Question 1: Answer"
      ],
      "metadata": {
        "id": "q7EOeC2TimWX"
      }
    },
    {
      "cell_type": "code",
      "execution_count": null,
      "metadata": {
        "colab": {
          "base_uri": "https://localhost:8080/"
        },
        "id": "2bS5rBiIiVb1",
        "outputId": "83cfb772-8633-48e9-f877-516f6f8dfd0a"
      },
      "outputs": [
        {
          "output_type": "stream",
          "name": "stdout",
          "text": [
            "<class 'int'>\n",
            "<class 'str'>\n"
          ]
        }
      ],
      "source": [
        "x = 5\n",
        "y = \"John\"\n",
        "print(type(x)) \n",
        "print(type(y))"
      ]
    },
    {
      "cell_type": "markdown",
      "source": [
        "Question 2: Answer"
      ],
      "metadata": {
        "id": "3J3nQy7eE-u9"
      }
    },
    {
      "cell_type": "code",
      "source": [
        "3a=10      #invalid (cannot begin with number)\n",
        "@abc=10     #invalid (should contain only alphanumeric and underscore)\n",
        "a100=100     #valid \n",
        "_a984_=100  #valid\n",
        "a9967$=100  #invalid (should contain only alphanumeric and underscore)\n",
        "xyz-2=100    #invalid (should contain only alphanumeric and underscore)"
      ],
      "metadata": {
        "colab": {
          "base_uri": "https://localhost:8080/",
          "height": 130
        },
        "id": "-D6K1ykJilsl",
        "outputId": "a22198bc-c885-48fd-eae6-305dbb91b1e9"
      },
      "execution_count": null,
      "outputs": [
        {
          "output_type": "error",
          "ename": "SyntaxError",
          "evalue": "ignored",
          "traceback": [
            "\u001b[0;36m  File \u001b[0;32m\"<ipython-input-2-9fcc8c964dbb>\"\u001b[0;36m, line \u001b[0;32m1\u001b[0m\n\u001b[0;31m    3a=10\u001b[0m\n\u001b[0m     ^\u001b[0m\n\u001b[0;31mSyntaxError\u001b[0m\u001b[0;31m:\u001b[0m invalid syntax\n"
          ]
        }
      ]
    },
    {
      "cell_type": "markdown",
      "source": [
        "Question 3: Answer"
      ],
      "metadata": {
        "id": "ir4Ysw7TLscm"
      }
    },
    {
      "cell_type": "code",
      "source": [
        "list =[1, 6, 3, 5, 3, 4]\n",
        "i=3\n",
        "if i in list:\n",
        "  print(\"3 exists in list\") \n",
        "else:\n",
        "  print(\"3 does not exist in list\")\n",
        "i=3\n",
        "if i in list:\n",
        "  print(\"6 exists in list\") \n",
        "else:\n",
        "  print(\"6 does not exist in list\")"
      ],
      "metadata": {
        "colab": {
          "base_uri": "https://localhost:8080/"
        },
        "id": "2PFhNJHEFD4E",
        "outputId": "e85e50ce-289d-4c7d-b8df-490ed6ba3657"
      },
      "execution_count": 4,
      "outputs": [
        {
          "output_type": "stream",
          "name": "stdout",
          "text": [
            "3 exists in list\n",
            "6 exists in list\n"
          ]
        }
      ]
    },
    {
      "cell_type": "markdown",
      "source": [
        "Question 4: Answer"
      ],
      "metadata": {
        "id": "hu6Ai3JVLuEP"
      }
    },
    {
      "cell_type": "code",
      "source": [
        "from datetime import date\n",
        "today = date.today()\n",
        "print(\"Today's date is: \", today)"
      ],
      "metadata": {
        "colab": {
          "base_uri": "https://localhost:8080/"
        },
        "id": "JRFeDq-zG7vr",
        "outputId": "ad07a5aa-169a-418c-b51a-9d438cad4fc8"
      },
      "execution_count": 7,
      "outputs": [
        {
          "output_type": "stream",
          "name": "stdout",
          "text": [
            "Today's date is:  2022-09-15\n"
          ]
        }
      ]
    },
    {
      "cell_type": "markdown",
      "source": [
        "Question 5: Answer"
      ],
      "metadata": {
        "id": "nuvW36y2L9cf"
      }
    },
    {
      "cell_type": "code",
      "source": [
        "print (9//2)\n",
        "print (9%2)"
      ],
      "metadata": {
        "colab": {
          "base_uri": "https://localhost:8080/"
        },
        "id": "ZevPSU9BHG9a",
        "outputId": "92da87f2-b08a-4ae2-cd24-8e8549a8aff7"
      },
      "execution_count": 10,
      "outputs": [
        {
          "output_type": "stream",
          "name": "stdout",
          "text": [
            "4\n",
            "1\n"
          ]
        }
      ]
    },
    {
      "cell_type": "markdown",
      "source": [
        "Question 6: Answer"
      ],
      "metadata": {
        "id": "U3d33ooiL_4v"
      }
    },
    {
      "cell_type": "code",
      "source": [
        "i = 1\n",
        "while i <= 10:\n",
        "    print(i)\n",
        "    i += 1\n"
      ],
      "metadata": {
        "colab": {
          "base_uri": "https://localhost:8080/"
        },
        "id": "uoLd4DhlHUDo",
        "outputId": "f674245d-d02a-4a16-f12f-8a1fa7c53066"
      },
      "execution_count": 15,
      "outputs": [
        {
          "output_type": "stream",
          "name": "stdout",
          "text": [
            "1\n",
            "2\n",
            "3\n",
            "4\n",
            "5\n",
            "6\n",
            "7\n",
            "8\n",
            "9\n",
            "10\n"
          ]
        }
      ]
    },
    {
      "cell_type": "markdown",
      "source": [
        "Question 7: Answer"
      ],
      "metadata": {
        "id": "FVKDmzLQMBue"
      }
    },
    {
      "cell_type": "code",
      "source": [
        "k = 0\n",
        "n = int(input(\"Enter number \"))\n",
        "for i in range(1, n + 1, 1):\n",
        "   k += i\n",
        "print(\"\\n\")\n",
        "print(\"Sum is: \", k)\n"
      ],
      "metadata": {
        "colab": {
          "base_uri": "https://localhost:8080/"
        },
        "id": "Kvzm6c6WH5z7",
        "outputId": "65cb0a9b-9240-44f4-cca9-e6fae6d269ae"
      },
      "execution_count": 18,
      "outputs": [
        {
          "output_type": "stream",
          "name": "stdout",
          "text": [
            "Enter number 16\n",
            "\n",
            "\n",
            "Sum is:  136\n"
          ]
        }
      ]
    },
    {
      "cell_type": "markdown",
      "source": [
        "Question 8: Answer"
      ],
      "metadata": {
        "id": "9z8De1CPMDu2"
      }
    },
    {
      "cell_type": "code",
      "source": [
        "for fizzbuzz in range(51):\n",
        " if fizzbuzz % 3 == 0 and fizzbuzz % 5 == 0:\n",
        "  print(\"fizzbuzz\")\n",
        "  continue\n",
        " elif fizzbuzz % 3 == 0:\n",
        "   print(\"fizz\")\n",
        "   continue\n",
        " elif fizzbuzz % 5 == 0:\n",
        "  print(\"buzz\")\n",
        "  continue\n",
        "  print(fizzbuzz)\n",
        "\n",
        "\n"
      ],
      "metadata": {
        "colab": {
          "base_uri": "https://localhost:8080/"
        },
        "id": "OPAQFJXWIWuX",
        "outputId": "bd7e0a82-853d-4010-8176-40dcbefac261"
      },
      "execution_count": 22,
      "outputs": [
        {
          "output_type": "stream",
          "name": "stdout",
          "text": [
            "fizzbuzz\n",
            "fizz\n",
            "buzz\n",
            "fizz\n",
            "fizz\n",
            "buzz\n",
            "fizz\n",
            "fizzbuzz\n",
            "fizz\n",
            "buzz\n",
            "fizz\n",
            "fizz\n",
            "buzz\n",
            "fizz\n",
            "fizzbuzz\n",
            "fizz\n",
            "buzz\n",
            "fizz\n",
            "fizz\n",
            "buzz\n",
            "fizz\n",
            "fizzbuzz\n",
            "fizz\n",
            "buzz\n"
          ]
        }
      ]
    }
  ]
}